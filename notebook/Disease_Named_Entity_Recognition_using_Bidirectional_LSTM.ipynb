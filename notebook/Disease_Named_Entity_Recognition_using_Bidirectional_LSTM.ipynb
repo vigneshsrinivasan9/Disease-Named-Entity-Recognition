{
  "nbformat": 4,
  "nbformat_minor": 0,
  "metadata": {
    "kernelspec": {
      "display_name": "Python 3",
      "language": "python",
      "name": "python3"
    },
    "language_info": {
      "codemirror_mode": {
        "name": "ipython",
        "version": 3
      },
      "file_extension": ".py",
      "mimetype": "text/x-python",
      "name": "python",
      "nbconvert_exporter": "python",
      "pygments_lexer": "ipython3",
      "version": "3.7.4"
    },
    "toc": {
      "base_numbering": 1,
      "nav_menu": {},
      "number_sections": true,
      "sideBar": true,
      "skip_h1_title": false,
      "title_cell": "Table of Contents",
      "title_sidebar": "Contents",
      "toc_cell": false,
      "toc_position": {},
      "toc_section_display": true,
      "toc_window_display": false
    },
    "varInspector": {
      "cols": {
        "lenName": 16,
        "lenType": 16,
        "lenVar": 40
      },
      "kernels_config": {
        "python": {
          "delete_cmd_postfix": "",
          "delete_cmd_prefix": "del ",
          "library": "var_list.py",
          "varRefreshCmd": "print(var_dic_list())"
        },
        "r": {
          "delete_cmd_postfix": ") ",
          "delete_cmd_prefix": "rm(",
          "library": "var_list.r",
          "varRefreshCmd": "cat(var_dic_list()) "
        }
      },
      "types_to_exclude": [
        "module",
        "function",
        "builtin_function_or_method",
        "instance",
        "_Feature"
      ],
      "window_display": false
    },
    "colab": {
      "name": "Disease Named Entity Recognition using Bidirectional LSTM.ipynb",
      "provenance": [],
      "toc_visible": true
    },
    "accelerator": "GPU"
  },
  "cells": [
    {
      "cell_type": "markdown",
      "metadata": {
        "id": "pE8TNNluzshh",
        "colab_type": "text"
      },
      "source": [
        "Disease named entity recognition using bidirectional recurrent neural networks"
      ]
    },
    {
      "cell_type": "code",
      "metadata": {
        "id": "bAc1kTm3zshm",
        "colab_type": "code",
        "colab": {}
      },
      "source": [
        "import pandas as pd\n",
        "import numpy as np\n",
        "from tqdm import tqdm, trange\n",
        "import unicodedata\n",
        "\n",
        "from keras.preprocessing.sequence import pad_sequences\n",
        "from keras.utils import to_categorical\n",
        "from keras.models import Model, Input\n",
        "from keras.layers import LSTM, Embedding, Dense, TimeDistributed, Dropout, Bidirectional"
      ],
      "execution_count": 2,
      "outputs": []
    },
    {
      "cell_type": "code",
      "metadata": {
        "id": "_xvl9Iydzsh1",
        "colab_type": "code",
        "colab": {}
      },
      "source": [
        "#Define constants \n",
        "PAD_LENGTH=180 \n",
        "LSTM_UNITS=120 \n",
        "BATCH_SIZE=48"
      ],
      "execution_count": 3,
      "outputs": []
    },
    {
      "cell_type": "code",
      "metadata": {
        "id": "tI-8q7Ai0N6f",
        "colab_type": "code",
        "colab": {
          "base_uri": "https://localhost:8080/",
          "height": 34
        },
        "outputId": "31ba1ad4-24bb-4b0b-eb85-dbb73c2514e3"
      },
      "source": [
        "from google.colab import drive\n",
        "drive.mount('/content/drive')\n"
      ],
      "execution_count": 6,
      "outputs": [
        {
          "output_type": "stream",
          "text": [
            "Drive already mounted at /content/drive; to attempt to forcibly remount, call drive.mount(\"/content/drive\", force_remount=True).\n"
          ],
          "name": "stdout"
        }
      ]
    },
    {
      "cell_type": "code",
      "metadata": {
        "id": "eG9BWCCV0k6J",
        "colab_type": "code",
        "colab": {
          "base_uri": "https://localhost:8080/",
          "height": 34
        },
        "outputId": "d7af8886-814c-4f73-d253-2aace86f0bb9"
      },
      "source": [
        "!ls \"/content/drive/My Drive/Colab Notebooks/Disease Named Entity Recognition/data\""
      ],
      "execution_count": 7,
      "outputs": [
        {
          "output_type": "stream",
          "text": [
            "test.csv  train.csv\n"
          ],
          "name": "stdout"
        }
      ]
    },
    {
      "cell_type": "code",
      "metadata": {
        "id": "Z1erIoYh049U",
        "colab_type": "code",
        "colab": {}
      },
      "source": [
        "!cp \"/content/drive/My Drive/Colab Notebooks/Disease Named Entity Recognition/data/train.csv\" \"train.csv\""
      ],
      "execution_count": 8,
      "outputs": []
    },
    {
      "cell_type": "code",
      "metadata": {
        "id": "vU9nI4mU1P3I",
        "colab_type": "code",
        "colab": {}
      },
      "source": [
        "!cp \"/content/drive/My Drive/Colab Notebooks/Disease Named Entity Recognition/notebook/utils.py\" \"utils.py\" \n",
        "from utils import *"
      ],
      "execution_count": 9,
      "outputs": []
    },
    {
      "cell_type": "code",
      "metadata": {
        "id": "IjbrCA6B0_Ph",
        "colab_type": "code",
        "colab": {}
      },
      "source": [
        "!cp \"/content/drive/My Drive/Colab Notebooks/Disease Named Entity Recognition/data/test.csv\" \"test.csv\""
      ],
      "execution_count": 10,
      "outputs": []
    },
    {
      "cell_type": "code",
      "metadata": {
        "id": "OBS8KTLQzsiD",
        "colab_type": "code",
        "colab": {}
      },
      "source": [
        "#Import train and test datasets\n",
        "train_data = pd.read_csv(\"train.csv\", encoding=\"latin1\")\n",
        "test_data = pd.read_csv(\"test.csv\",encoding=\"latin1\")"
      ],
      "execution_count": 11,
      "outputs": []
    },
    {
      "cell_type": "code",
      "metadata": {
        "id": "0uNqBnPWzsiL",
        "colab_type": "code",
        "colab": {
          "base_uri": "https://localhost:8080/",
          "height": 204
        },
        "outputId": "8ef73434-aa89-49aa-a6aa-af76325d2a0e"
      },
      "source": [
        "train_data.head()"
      ],
      "execution_count": 12,
      "outputs": [
        {
          "output_type": "execute_result",
          "data": {
            "text/html": [
              "<div>\n",
              "<style scoped>\n",
              "    .dataframe tbody tr th:only-of-type {\n",
              "        vertical-align: middle;\n",
              "    }\n",
              "\n",
              "    .dataframe tbody tr th {\n",
              "        vertical-align: top;\n",
              "    }\n",
              "\n",
              "    .dataframe thead th {\n",
              "        text-align: right;\n",
              "    }\n",
              "</style>\n",
              "<table border=\"1\" class=\"dataframe\">\n",
              "  <thead>\n",
              "    <tr style=\"text-align: right;\">\n",
              "      <th></th>\n",
              "      <th>id</th>\n",
              "      <th>Doc_ID</th>\n",
              "      <th>Sent_ID</th>\n",
              "      <th>Word</th>\n",
              "      <th>tag</th>\n",
              "    </tr>\n",
              "  </thead>\n",
              "  <tbody>\n",
              "    <tr>\n",
              "      <th>0</th>\n",
              "      <td>1</td>\n",
              "      <td>1</td>\n",
              "      <td>1</td>\n",
              "      <td>Obesity</td>\n",
              "      <td>O</td>\n",
              "    </tr>\n",
              "    <tr>\n",
              "      <th>1</th>\n",
              "      <td>2</td>\n",
              "      <td>1</td>\n",
              "      <td>1</td>\n",
              "      <td>in</td>\n",
              "      <td>O</td>\n",
              "    </tr>\n",
              "    <tr>\n",
              "      <th>2</th>\n",
              "      <td>3</td>\n",
              "      <td>1</td>\n",
              "      <td>1</td>\n",
              "      <td>Low-</td>\n",
              "      <td>O</td>\n",
              "    </tr>\n",
              "    <tr>\n",
              "      <th>3</th>\n",
              "      <td>4</td>\n",
              "      <td>1</td>\n",
              "      <td>1</td>\n",
              "      <td>and</td>\n",
              "      <td>O</td>\n",
              "    </tr>\n",
              "    <tr>\n",
              "      <th>4</th>\n",
              "      <td>5</td>\n",
              "      <td>1</td>\n",
              "      <td>1</td>\n",
              "      <td>Middle-Income</td>\n",
              "      <td>O</td>\n",
              "    </tr>\n",
              "  </tbody>\n",
              "</table>\n",
              "</div>"
            ],
            "text/plain": [
              "   id  Doc_ID  Sent_ID           Word tag\n",
              "0   1       1        1        Obesity   O\n",
              "1   2       1        1             in   O\n",
              "2   3       1        1           Low-   O\n",
              "3   4       1        1            and   O\n",
              "4   5       1        1  Middle-Income   O"
            ]
          },
          "metadata": {
            "tags": []
          },
          "execution_count": 12
        }
      ]
    },
    {
      "cell_type": "code",
      "metadata": {
        "id": "aj52Y3MOzsib",
        "colab_type": "code",
        "colab": {
          "base_uri": "https://localhost:8080/",
          "height": 204
        },
        "outputId": "98a87f5e-ca13-435a-f842-d7937c91dbb7"
      },
      "source": [
        "test_data.head()"
      ],
      "execution_count": 13,
      "outputs": [
        {
          "output_type": "execute_result",
          "data": {
            "text/html": [
              "<div>\n",
              "<style scoped>\n",
              "    .dataframe tbody tr th:only-of-type {\n",
              "        vertical-align: middle;\n",
              "    }\n",
              "\n",
              "    .dataframe tbody tr th {\n",
              "        vertical-align: top;\n",
              "    }\n",
              "\n",
              "    .dataframe thead th {\n",
              "        text-align: right;\n",
              "    }\n",
              "</style>\n",
              "<table border=\"1\" class=\"dataframe\">\n",
              "  <thead>\n",
              "    <tr style=\"text-align: right;\">\n",
              "      <th></th>\n",
              "      <th>id</th>\n",
              "      <th>Doc_ID</th>\n",
              "      <th>Sent_ID</th>\n",
              "      <th>Word</th>\n",
              "    </tr>\n",
              "  </thead>\n",
              "  <tbody>\n",
              "    <tr>\n",
              "      <th>0</th>\n",
              "      <td>4543834</td>\n",
              "      <td>30001</td>\n",
              "      <td>191283</td>\n",
              "      <td>CCCVA</td>\n",
              "    </tr>\n",
              "    <tr>\n",
              "      <th>1</th>\n",
              "      <td>4543835</td>\n",
              "      <td>30001</td>\n",
              "      <td>191283</td>\n",
              "      <td>,</td>\n",
              "    </tr>\n",
              "    <tr>\n",
              "      <th>2</th>\n",
              "      <td>4543836</td>\n",
              "      <td>30001</td>\n",
              "      <td>191283</td>\n",
              "      <td>MANOVA</td>\n",
              "    </tr>\n",
              "    <tr>\n",
              "      <th>3</th>\n",
              "      <td>4543837</td>\n",
              "      <td>30001</td>\n",
              "      <td>191283</td>\n",
              "      <td>,</td>\n",
              "    </tr>\n",
              "    <tr>\n",
              "      <th>4</th>\n",
              "      <td>4543838</td>\n",
              "      <td>30001</td>\n",
              "      <td>191283</td>\n",
              "      <td>my</td>\n",
              "    </tr>\n",
              "  </tbody>\n",
              "</table>\n",
              "</div>"
            ],
            "text/plain": [
              "        id  Doc_ID  Sent_ID    Word\n",
              "0  4543834   30001   191283   CCCVA\n",
              "1  4543835   30001   191283       ,\n",
              "2  4543836   30001   191283  MANOVA\n",
              "3  4543837   30001   191283       ,\n",
              "4  4543838   30001   191283      my"
            ]
          },
          "metadata": {
            "tags": []
          },
          "execution_count": 13
        }
      ]
    },
    {
      "cell_type": "code",
      "metadata": {
        "id": "sAr1jE-szsir",
        "colab_type": "code",
        "colab": {
          "base_uri": "https://localhost:8080/",
          "height": 119
        },
        "outputId": "0cace544-ee6a-495a-ead0-553769a427c2"
      },
      "source": [
        "#Check number of unique docs, sentences and words in training data\n",
        "train_data.nunique()"
      ],
      "execution_count": 14,
      "outputs": [
        {
          "output_type": "execute_result",
          "data": {
            "text/plain": [
              "id         4543833\n",
              "Doc_ID       30000\n",
              "Sent_ID     191282\n",
              "Word        184505\n",
              "tag              3\n",
              "dtype: int64"
            ]
          },
          "metadata": {
            "tags": []
          },
          "execution_count": 14
        }
      ]
    },
    {
      "cell_type": "code",
      "metadata": {
        "id": "_7TwpFAQzsi6",
        "colab_type": "code",
        "colab": {
          "base_uri": "https://localhost:8080/",
          "height": 102
        },
        "outputId": "0586c9fa-df83-47ca-b4d8-f3a1dd018a04"
      },
      "source": [
        "#Check number of unique docs, sentences and words in test data\n",
        "test_data.nunique()"
      ],
      "execution_count": 15,
      "outputs": [
        {
          "output_type": "execute_result",
          "data": {
            "text/plain": [
              "id         2994463\n",
              "Doc_ID       20000\n",
              "Sent_ID     125840\n",
              "Word        139891\n",
              "dtype: int64"
            ]
          },
          "metadata": {
            "tags": []
          },
          "execution_count": 15
        }
      ]
    },
    {
      "cell_type": "code",
      "metadata": {
        "id": "1CjJcn-6zsjL",
        "colab_type": "code",
        "colab": {
          "base_uri": "https://localhost:8080/",
          "height": 51
        },
        "outputId": "300eeae7-5e46-4378-a916-79d353ffdaa9"
      },
      "source": [
        "#Creating dictionaries of unique words and tags\n",
        "words=list(set(train_data[\"Word\"].append(test_data[\"Word\"]).values)) #removing duplicate entries using set\n",
        "words.append(\"ENDPAD\")  \n",
        "tags=list(set(train_data[\"tag\"].values)) \n",
        "\n",
        "\n",
        "len_words=len(words)\n",
        "\n",
        "len_tags=len(tags) \n",
        "\n",
        "print(\"Length of word dictionary: \",len_words)\n",
        "print(\"Length of tag dictionary: \",len_tags) \n"
      ],
      "execution_count": 16,
      "outputs": [
        {
          "output_type": "stream",
          "text": [
            "Length of word dictionary:  257203\n",
            "Length of tag dictionary:  3\n"
          ],
          "name": "stdout"
        }
      ]
    },
    {
      "cell_type": "code",
      "metadata": {
        "id": "XnWtx8fNzsjX",
        "colab_type": "code",
        "colab": {}
      },
      "source": [
        "#Preprocessing \n",
        "#Convert greek characters to ASCII characters\n",
        "words=[unicodedata.normalize('NFKD',str(w)).encode('ascii','ignore') for w in words] "
      ],
      "execution_count": 17,
      "outputs": []
    },
    {
      "cell_type": "code",
      "metadata": {
        "id": "3jQOpWt4zsjc",
        "colab_type": "code",
        "colab": {}
      },
      "source": [
        "#Create dictionaries that has all unique words/tags as keys and unique ID as values\n",
        "word2idx=dict(zip(words,range(0,len_words-1))) \n",
        "tag2idx=dict(zip(tags,range(0,len_tags-1)))"
      ],
      "execution_count": 18,
      "outputs": []
    },
    {
      "cell_type": "code",
      "metadata": {
        "id": "RD97ww2Xzsjl",
        "colab_type": "code",
        "colab": {
          "base_uri": "https://localhost:8080/",
          "height": 34
        },
        "outputId": "9570d7c9-4a05-41a0-b6f7-aa0f1993985e"
      },
      "source": [
        "dict(list(word2idx.items())[:3])"
      ],
      "execution_count": 19,
      "outputs": [
        {
          "output_type": "execute_result",
          "data": {
            "text/plain": [
              "{b'GY': 1, b'LH/ml': 2, b'nan': 0}"
            ]
          },
          "metadata": {
            "tags": []
          },
          "execution_count": 19
        }
      ]
    },
    {
      "cell_type": "code",
      "metadata": {
        "id": "N05JMrqozsjr",
        "colab_type": "code",
        "colab": {
          "base_uri": "https://localhost:8080/",
          "height": 34
        },
        "outputId": "db671f02-27bc-4fb2-8b97-5d3cecaed4a9"
      },
      "source": [
        "dict(list(tag2idx.items())[:3])"
      ],
      "execution_count": 20,
      "outputs": [
        {
          "output_type": "execute_result",
          "data": {
            "text/plain": [
              "{'B-indications': 0, 'I-indications': 1}"
            ]
          },
          "metadata": {
            "tags": []
          },
          "execution_count": 20
        }
      ]
    },
    {
      "cell_type": "code",
      "metadata": {
        "id": "Z_gsJdWYzsj3",
        "colab_type": "code",
        "colab": {
          "base_uri": "https://localhost:8080/",
          "height": 54
        },
        "outputId": "34ad909c-b618-4fe1-a9b8-d1d4533e5522"
      },
      "source": [
        "#Get training sentences in a list\n",
        "train_sentences = get_tagged_sentences(train_data) \n",
        "print(train_sentences[0:2])"
      ],
      "execution_count": 21,
      "outputs": [
        {
          "output_type": "stream",
          "text": [
            "[[('Obesity', 'O'), ('in', 'O'), ('Low-', 'O'), ('and', 'O'), ('Middle-Income', 'O'), ('Countries', 'O'), (':', 'O'), ('Burden', 'O'), (',', 'O'), ('Drivers', 'O'), (',', 'O'), ('and', 'O'), ('Emerging', 'O'), ('Challenges', 'O'), ('.', 'O')], [('We', 'O'), ('have', 'O'), ('reviewed', 'O'), ('the', 'O'), ('distinctive', 'O'), ('features', 'O'), ('of', 'O'), ('excess', 'O'), ('weight', 'O'), (',', 'O'), ('its', 'O'), ('causes', 'O'), (',', 'O'), ('and', 'O'), ('related', 'O'), ('prevention', 'O'), ('and', 'O'), ('management', 'O'), ('efforts', 'O'), (',', 'O'), ('as', 'O'), ('well', 'O'), ('as', 'O'), ('data', 'O'), ('gaps', 'O'), ('and', 'O'), ('recommendations', 'O'), ('for', 'O'), ('future', 'O'), ('research', 'O'), ('in', 'O'), ('low-', 'O'), ('and', 'O'), ('middle-income', 'O'), ('countries', 'O'), ('(', 'O'), ('LMICs', 'O'), (')', 'O'), ('.', 'O')]]\n"
          ],
          "name": "stdout"
        }
      ]
    },
    {
      "cell_type": "code",
      "metadata": {
        "id": "g6EQSQPqzskB",
        "colab_type": "code",
        "colab": {
          "base_uri": "https://localhost:8080/",
          "height": 34
        },
        "outputId": "1252c987-efa6-49cd-8434-e185a0a9eeac"
      },
      "source": [
        "#Get test sentences in a list\n",
        "test_sentences=get_test_sentences(test_data)\n",
        "print(test_sentences[0:2])"
      ],
      "execution_count": 22,
      "outputs": [
        {
          "output_type": "stream",
          "text": [
            "[['CCCVA', ',', 'MANOVA', ',', 'my', 'black', 'hen', '.'], ['Comments', 'on', 'repeated', 'measures', '.']]\n"
          ],
          "name": "stdout"
        }
      ]
    },
    {
      "cell_type": "code",
      "metadata": {
        "id": "k9q1XdlgzskI",
        "colab_type": "code",
        "colab": {}
      },
      "source": [
        "#Feature Extraction for DL\n",
        "#Convert words to indices for train and test sentences. Also convert greek characters to ASCII characters\n",
        "X_train = [[word2idx[unicodedata.normalize('NFKD', str(w[0])).\n",
        "               encode('ascii','ignore')] for w in s] for s in train_sentences]\n",
        "X_test = [[word2idx[unicodedata.normalize('NFKD', str(w)).\n",
        "                    encode('ascii','ignore')] for w in s] for s in test_sentences]\n",
        "\n",
        "\n",
        "#Pad train and test sentences to PAD_LENGTH(180 words)\n",
        "X_train=pad_sequences(maxlen=PAD_LENGTH,sequences=X_train,padding=\"post\",value=len_words-1)\n",
        "X_test=pad_sequences(maxlen=PAD_LENGTH,sequences=X_test,padding=\"post\",value=len_words-1)\n"
      ],
      "execution_count": 23,
      "outputs": []
    },
    {
      "cell_type": "code",
      "metadata": {
        "id": "I5IAW5UWzskO",
        "colab_type": "code",
        "colab": {}
      },
      "source": [
        "#Convert tags to indices for train sentences\n",
        "word2idx = {w: i for i, w in enumerate(words)}\n",
        "# Creating tags to indices dictionary.\n",
        "tag2idx = {t: i for i, t in enumerate(tags)}\n",
        "y = [[tag2idx[w[1]] for w in s] for s in train_sentences]\n",
        "#Pad tag labels to PAD_LENGTH(180 words)\n",
        "y=pad_sequences(maxlen=PAD_LENGTH,sequences=y,padding=\"post\",value=tag2idx[\"O\"])\n",
        "\n",
        "#One hot encode labels\n",
        "y=[to_categorical(i,num_classes=len_tags)for i in y]"
      ],
      "execution_count": 24,
      "outputs": []
    },
    {
      "cell_type": "code",
      "metadata": {
        "id": "OWxTAAbJzskS",
        "colab_type": "code",
        "colab": {
          "base_uri": "https://localhost:8080/",
          "height": 156
        },
        "outputId": "6b84fe4d-2222-458f-8f42-8a89ce0f1a59"
      },
      "source": [
        "#Input layer with input of 180 dimensional word indices \n",
        "input = Input(shape=(PAD_LENGTH,)) \n",
        "\n",
        "#Embedding layer \n",
        "model=Embedding(input_dim=len_words,output_dim=PAD_LENGTH,input_length=PAD_LENGTH)(input)\n",
        "\n",
        "#Adding dropout layer\n",
        "model=Dropout(0.2)(model) \n",
        "\n",
        "#Bidirectional LSTM layer \n",
        "model=Bidirectional(LSTM(units=LSTM_UNITS,return_sequences=True,recurrent_dropout=0.1))(model) \n",
        "\n",
        "#Time distributed dense layer \n",
        "output=TimeDistributed(Dense(len_tags,activation=\"softmax\"))(model) #Softmax output layer\n",
        "\n",
        "model=Model(input,output)\n",
        "\n",
        "model.compile(optimizer=\"adam\",loss=\"categorical_crossentropy\",metrics=[\"accuracy\"])\n",
        "history=model.fit(X_train,np.array(y),batch_size=BATCH_SIZE,epochs=2,validation_split=0.05,verbose=1)"
      ],
      "execution_count": 25,
      "outputs": [
        {
          "output_type": "stream",
          "text": [
            "WARNING:tensorflow:Layer lstm will not use cuDNN kernel since it doesn't meet the cuDNN kernel criteria. It will use generic GPU kernel as fallback when running on GPU\n",
            "WARNING:tensorflow:Layer lstm will not use cuDNN kernel since it doesn't meet the cuDNN kernel criteria. It will use generic GPU kernel as fallback when running on GPU\n",
            "WARNING:tensorflow:Layer lstm will not use cuDNN kernel since it doesn't meet the cuDNN kernel criteria. It will use generic GPU kernel as fallback when running on GPU\n",
            "Epoch 1/2\n",
            "3786/3786 [==============================] - 5813s 2s/step - loss: 0.0069 - accuracy: 0.9983 - val_loss: 0.0041 - val_accuracy: 0.9988\n",
            "Epoch 2/2\n",
            "3786/3786 [==============================] - 5552s 1s/step - loss: 0.0028 - accuracy: 0.9991 - val_loss: 0.0038 - val_accuracy: 0.9989\n"
          ],
          "name": "stdout"
        }
      ]
    },
    {
      "cell_type": "code",
      "metadata": {
        "id": "9tzOOvGXzska",
        "colab_type": "code",
        "colab": {
          "base_uri": "https://localhost:8080/",
          "height": 323
        },
        "outputId": "03dcdc46-e12a-42a5-a76b-0ee12cef2ab5"
      },
      "source": [
        "model.summary()"
      ],
      "execution_count": 26,
      "outputs": [
        {
          "output_type": "stream",
          "text": [
            "Model: \"functional_1\"\n",
            "_________________________________________________________________\n",
            "Layer (type)                 Output Shape              Param #   \n",
            "=================================================================\n",
            "input_1 (InputLayer)         [(None, 180)]             0         \n",
            "_________________________________________________________________\n",
            "embedding (Embedding)        (None, 180, 180)          46296540  \n",
            "_________________________________________________________________\n",
            "dropout (Dropout)            (None, 180, 180)          0         \n",
            "_________________________________________________________________\n",
            "bidirectional (Bidirectional (None, 180, 240)          288960    \n",
            "_________________________________________________________________\n",
            "time_distributed (TimeDistri (None, 180, 3)            723       \n",
            "=================================================================\n",
            "Total params: 46,586,223\n",
            "Trainable params: 46,586,223\n",
            "Non-trainable params: 0\n",
            "_________________________________________________________________\n"
          ],
          "name": "stdout"
        }
      ]
    },
    {
      "cell_type": "code",
      "metadata": {
        "id": "UzS8PoNA792q",
        "colab_type": "code",
        "colab": {
          "base_uri": "https://localhost:8080/",
          "height": 34
        },
        "outputId": "5c8f3fe6-b43d-4874-ae93-d4b471deaa6f"
      },
      "source": [
        "#Make predictions on test set \n",
        "predictions=model.predict(X_test) \n",
        "predictions.shape "
      ],
      "execution_count": 27,
      "outputs": [
        {
          "output_type": "execute_result",
          "data": {
            "text/plain": [
              "(125840, 180, 3)"
            ]
          },
          "metadata": {
            "tags": []
          },
          "execution_count": 27
        }
      ]
    },
    {
      "cell_type": "code",
      "metadata": {
        "id": "WE-DcE68YDnZ",
        "colab_type": "code",
        "colab": {
          "base_uri": "https://localhost:8080/",
          "height": 34
        },
        "outputId": "b48920c8-e29d-4d48-eaf8-f452d6bf89af"
      },
      "source": [
        "#Taking tag of prediction with maximum probability \n",
        "prediction_index=np.argmax(predictions,axis=-1) \n",
        "prediction_index.shape"
      ],
      "execution_count": 28,
      "outputs": [
        {
          "output_type": "execute_result",
          "data": {
            "text/plain": [
              "(125840, 180)"
            ]
          },
          "metadata": {
            "tags": []
          },
          "execution_count": 28
        }
      ]
    },
    {
      "cell_type": "code",
      "metadata": {
        "id": "bR_MqaszZ_iN",
        "colab_type": "code",
        "colab": {
          "base_uri": "https://localhost:8080/",
          "height": 34
        },
        "outputId": "91f85a74-1b1d-4ab3-8dfb-ed1afa060745"
      },
      "source": [
        "type(X_test)"
      ],
      "execution_count": 29,
      "outputs": [
        {
          "output_type": "execute_result",
          "data": {
            "text/plain": [
              "numpy.ndarray"
            ]
          },
          "metadata": {
            "tags": []
          },
          "execution_count": 29
        }
      ]
    },
    {
      "cell_type": "code",
      "metadata": {
        "id": "GM9CzAP7aQNx",
        "colab_type": "code",
        "colab": {
          "base_uri": "https://localhost:8080/",
          "height": 71
        },
        "outputId": "4813c11c-10d4-4c2e-8b3c-0bfce9e43cb0"
      },
      "source": [
        "#Flatten both features and predicted tags \n",
        "ids,tagids=X_test.flatten().tolist(),prediction_index.flatten().tolist()\n",
        "\n",
        "words_test=[words[ind].decode('utf-8') for ind in ids] \n",
        "tags_test=[tags[ind] for ind in tagids] \n",
        "\n",
        "#Check tag predictions \n",
        "\n",
        "print(\"words in test set\",words_test[:20])\n",
        "print(\"predicted tags\",tags_test[:20])"
      ],
      "execution_count": 33,
      "outputs": [
        {
          "output_type": "stream",
          "text": [
            "words in test set ['CCCVA', ',', 'MANOVA', ',', 'my', 'black', 'hen', '.', 'ENDPAD', 'ENDPAD', 'ENDPAD', 'ENDPAD', 'ENDPAD', 'ENDPAD', 'ENDPAD', 'ENDPAD', 'ENDPAD', 'ENDPAD', 'ENDPAD', 'ENDPAD']\n",
            "predicted tags ['O', 'O', 'O', 'O', 'O', 'O', 'O', 'O', 'O', 'O', 'O', 'O', 'O', 'O', 'O', 'O', 'O', 'O', 'O', 'O']\n"
          ],
          "name": "stdout"
        }
      ]
    },
    {
      "cell_type": "code",
      "metadata": {
        "id": "RNEIrPfha6Ex",
        "colab_type": "code",
        "colab": {}
      },
      "source": [
        ""
      ],
      "execution_count": null,
      "outputs": []
    }
  ]
}